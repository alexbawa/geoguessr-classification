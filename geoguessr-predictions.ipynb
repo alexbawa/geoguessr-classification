{
 "cells": [
  {
   "cell_type": "code",
   "execution_count": 1,
   "id": "0ea33cb1",
   "metadata": {
    "_cell_guid": "b1076dfc-b9ad-4769-8c92-a6c4dae69d19",
    "_uuid": "8f2839f25d086af736a60e9eeb907d3b93b6e0e5",
    "execution": {
     "iopub.execute_input": "2023-05-09T14:10:44.977840Z",
     "iopub.status.busy": "2023-05-09T14:10:44.977211Z",
     "iopub.status.idle": "2023-05-09T14:10:53.106174Z",
     "shell.execute_reply": "2023-05-09T14:10:53.105290Z"
    },
    "papermill": {
     "duration": 8.137667,
     "end_time": "2023-05-09T14:10:53.108640",
     "exception": false,
     "start_time": "2023-05-09T14:10:44.970973",
     "status": "completed"
    },
    "tags": []
   },
   "outputs": [
    {
     "name": "stderr",
     "output_type": "stream",
     "text": [
      "/opt/conda/lib/python3.10/site-packages/scipy/__init__.py:146: UserWarning: A NumPy version >=1.16.5 and <1.23.0 is required for this version of SciPy (detected version 1.23.5\n",
      "  warnings.warn(f\"A NumPy version >={np_minversion} and <{np_maxversion}\"\n"
     ]
    }
   ],
   "source": [
    "import math\n",
    "import matplotlib.pyplot as plt\n",
    "import numpy as np\n",
    "from keras.utils import image_dataset_from_directory, load_img, img_to_array\n",
    "from keras.models import Model, load_model\n",
    "from keras.applications.densenet import decode_predictions"
   ]
  },
  {
   "cell_type": "code",
   "execution_count": 2,
   "id": "568c5654",
   "metadata": {
    "execution": {
     "iopub.execute_input": "2023-05-09T14:10:53.118891Z",
     "iopub.status.busy": "2023-05-09T14:10:53.117883Z",
     "iopub.status.idle": "2023-05-09T14:11:12.899126Z",
     "shell.execute_reply": "2023-05-09T14:11:12.897959Z"
    },
    "papermill": {
     "duration": 19.788964,
     "end_time": "2023-05-09T14:11:12.901684",
     "exception": false,
     "start_time": "2023-05-09T14:10:53.112720",
     "status": "completed"
    },
    "tags": []
   },
   "outputs": [
    {
     "name": "stdout",
     "output_type": "stream",
     "text": [
      "Found 35977 files belonging to 55 classes.\n"
     ]
    }
   ],
   "source": [
    "data_directory = \"/kaggle/input/geoguessr-55countries/geoguessr_filtered_data\"\n",
    "\n",
    "batch_size = 32\n",
    "img_width = 1536\n",
    "img_height = 662\n",
    "img_target_scale = 0.2\n",
    "img_target_width = int(math.floor(img_width * img_target_scale))\n",
    "img_target_height= int(math.floor(img_height * img_target_scale))\n",
    "\n",
    "dataset = image_dataset_from_directory(\n",
    "  data_directory,\n",
    "  label_mode='categorical',\n",
    "  seed=123,\n",
    "  image_size=(img_target_height, img_target_width),\n",
    "  batch_size=batch_size)\n",
    "\n",
    "classes = dataset.class_names"
   ]
  },
  {
   "cell_type": "code",
   "execution_count": 3,
   "id": "a761dc69",
   "metadata": {
    "execution": {
     "iopub.execute_input": "2023-05-09T14:11:12.911182Z",
     "iopub.status.busy": "2023-05-09T14:11:12.910740Z",
     "iopub.status.idle": "2023-05-09T14:11:18.461446Z",
     "shell.execute_reply": "2023-05-09T14:11:18.460414Z"
    },
    "papermill": {
     "duration": 5.558212,
     "end_time": "2023-05-09T14:11:18.463797",
     "exception": false,
     "start_time": "2023-05-09T14:11:12.905585",
     "status": "completed"
    },
    "tags": []
   },
   "outputs": [],
   "source": [
    "model = load_model(\"/kaggle/input/modelv414/model.h5\")"
   ]
  },
  {
   "cell_type": "markdown",
   "id": "fe4606bf",
   "metadata": {
    "papermill": {
     "duration": 0.003358,
     "end_time": "2023-05-09T14:11:18.471168",
     "exception": false,
     "start_time": "2023-05-09T14:11:18.467810",
     "status": "completed"
    },
    "tags": []
   },
   "source": [
    "Findings on v4.1.4"
   ]
  },
  {
   "cell_type": "code",
   "execution_count": 4,
   "id": "bac1766f",
   "metadata": {
    "execution": {
     "iopub.execute_input": "2023-05-09T14:11:18.479896Z",
     "iopub.status.busy": "2023-05-09T14:11:18.479488Z",
     "iopub.status.idle": "2023-05-09T14:11:21.406290Z",
     "shell.execute_reply": "2023-05-09T14:11:21.404895Z"
    },
    "papermill": {
     "duration": 2.934931,
     "end_time": "2023-05-09T14:11:21.409659",
     "exception": false,
     "start_time": "2023-05-09T14:11:18.474728",
     "status": "completed"
    },
    "tags": []
   },
   "outputs": [
    {
     "name": "stdout",
     "output_type": "stream",
     "text": [
      "1/1 [==============================] - 3s 3s/step\n"
     ]
    },
    {
     "data": {
      "text/plain": [
       "[('United Kingdom', 62.24978566169739),\n",
       " ('Japan', 15.79795628786087),\n",
       " ('Singapore', 9.038828313350677),\n",
       " ('France', 4.873595014214516),\n",
       " ('Russia', 3.522735834121704)]"
      ]
     },
     "execution_count": 4,
     "metadata": {},
     "output_type": "execute_result"
    }
   ],
   "source": [
    "# predicting city picture of London, UK\n",
    "img = load_img('/kaggle/input/test-img-london/test_img_london.jpeg', target_size=(img_target_height, img_target_width))\n",
    "x = img_to_array(img)\n",
    "x = np.expand_dims(x, axis=0)\n",
    "\n",
    "images = np.vstack([x])\n",
    "prediction = model.predict(images, batch_size=batch_size)\n",
    "\n",
    "zip_list = list(zip(dataset.class_names,prediction[0]))\n",
    "\n",
    "result = []\n",
    "\n",
    "for (country, pred) in zip_list:\n",
    "    result.append((country,float(pred)*100))\n",
    "top_five= sorted(result, key=lambda a: round(a[1]), reverse=True)[:5]\n",
    "\n",
    "top_five\n"
   ]
  },
  {
   "cell_type": "markdown",
   "id": "50466a04",
   "metadata": {
    "papermill": {
     "duration": 0.005096,
     "end_time": "2023-05-09T14:11:21.420205",
     "exception": false,
     "start_time": "2023-05-09T14:11:21.415109",
     "status": "completed"
    },
    "tags": []
   },
   "source": [
    "Singapore and Tokyo have skyscrapes like London."
   ]
  },
  {
   "cell_type": "code",
   "execution_count": 5,
   "id": "30e852f1",
   "metadata": {
    "execution": {
     "iopub.execute_input": "2023-05-09T14:11:21.435246Z",
     "iopub.status.busy": "2023-05-09T14:11:21.434356Z",
     "iopub.status.idle": "2023-05-09T14:11:21.973933Z",
     "shell.execute_reply": "2023-05-09T14:11:21.972700Z"
    },
    "papermill": {
     "duration": 0.549697,
     "end_time": "2023-05-09T14:11:21.976304",
     "exception": false,
     "start_time": "2023-05-09T14:11:21.426607",
     "status": "completed"
    },
    "tags": []
   },
   "outputs": [
    {
     "name": "stdout",
     "output_type": "stream",
     "text": [
      "1/1 [==============================] - 0s 141ms/step\n"
     ]
    },
    {
     "data": {
      "text/plain": [
       "[('United Kingdom', 89.81807827949524),\n",
       " ('Austria', 6.934420019388199),\n",
       " ('Italy', 1.6585631296038628),\n",
       " ('New Zealand', 0.5441933870315552),\n",
       " ('Israel', 0.4593708086758852)]"
      ]
     },
     "execution_count": 5,
     "metadata": {},
     "output_type": "execute_result"
    }
   ],
   "source": [
    "# predicting city picture of Copenhagen, Denmark\n",
    "img = load_img('/kaggle/input/test-image-radus/test_img_radus.png', target_size=(img_target_height, img_target_width))\n",
    "x = img_to_array(img)\n",
    "x = np.expand_dims(x, axis=0)\n",
    "\n",
    "images = np.vstack([x])\n",
    "prediction = model.predict(images, batch_size=batch_size)\n",
    "\n",
    "zip_list = list(zip(dataset.class_names,prediction[0]))\n",
    "\n",
    "result = []\n",
    "\n",
    "for (country, pred) in zip_list:\n",
    "    result.append((country,float(pred)*100))\n",
    "    \n",
    "top_five = sorted(result, key=lambda a: a[1], reverse=True)[:5]\n",
    "\n",
    "top_five"
   ]
  },
  {
   "cell_type": "markdown",
   "id": "be46e0ed",
   "metadata": {
    "papermill": {
     "duration": 0.004184,
     "end_time": "2023-05-09T14:11:21.985116",
     "exception": false,
     "start_time": "2023-05-09T14:11:21.980932",
     "status": "completed"
    },
    "tags": []
   },
   "source": [
    "Possible overfitting with the UK. However, english works are displayed."
   ]
  },
  {
   "cell_type": "code",
   "execution_count": 6,
   "id": "8eb86dd0",
   "metadata": {
    "execution": {
     "iopub.execute_input": "2023-05-09T14:11:21.996826Z",
     "iopub.status.busy": "2023-05-09T14:11:21.996037Z",
     "iopub.status.idle": "2023-05-09T14:11:24.599547Z",
     "shell.execute_reply": "2023-05-09T14:11:24.598587Z"
    },
    "papermill": {
     "duration": 2.612488,
     "end_time": "2023-05-09T14:11:24.601982",
     "exception": false,
     "start_time": "2023-05-09T14:11:21.989494",
     "status": "completed"
    },
    "tags": []
   },
   "outputs": [
    {
     "name": "stdout",
     "output_type": "stream",
     "text": [
      "1/1 [==============================] - 2s 2s/step\n"
     ]
    },
    {
     "data": {
      "text/plain": [
       "[('France', 54.13969159126282),\n",
       " ('Spain', 20.133836567401886),\n",
       " ('Japan', 9.379243850708008),\n",
       " ('Italy', 4.820802062749863),\n",
       " ('Sweden', 4.489485174417496)]"
      ]
     },
     "execution_count": 6,
     "metadata": {},
     "output_type": "execute_result"
    }
   ],
   "source": [
    "# predicting neighborhood picture of suburb of Copenhagen, Denmark\n",
    "img = load_img('/kaggle/input/test-img-denmarkneighborhood/test_img_denmark(less_city).png', target_size=(img_target_width, img_target_height))\n",
    "x = img_to_array(img)\n",
    "x = np.expand_dims(x, axis=0)\n",
    "\n",
    "images = np.vstack([x])\n",
    "prediction = model.predict(images, batch_size=batch_size)\n",
    "\n",
    "zip_list = list(zip(dataset.class_names,prediction[0]))\n",
    "\n",
    "result = []\n",
    "\n",
    "for (country, pred) in zip_list:\n",
    "    result.append((country,float(pred)*100))\n",
    "    \n",
    "top_five = sorted(result, key=lambda a: a[1], reverse=True)[:5]\n",
    "\n",
    "top_five"
   ]
  },
  {
   "cell_type": "markdown",
   "id": "3bd2e806",
   "metadata": {
    "papermill": {
     "duration": 0.004656,
     "end_time": "2023-05-09T14:11:24.611609",
     "exception": false,
     "start_time": "2023-05-09T14:11:24.606953",
     "status": "completed"
    },
    "tags": []
   },
   "source": [
    "Norway being in top 5 is interesting as it is a scandinavian country"
   ]
  },
  {
   "cell_type": "code",
   "execution_count": 7,
   "id": "6abab01e",
   "metadata": {
    "execution": {
     "iopub.execute_input": "2023-05-09T14:11:24.623920Z",
     "iopub.status.busy": "2023-05-09T14:11:24.622792Z",
     "iopub.status.idle": "2023-05-09T14:11:25.190202Z",
     "shell.execute_reply": "2023-05-09T14:11:25.189143Z"
    },
    "papermill": {
     "duration": 0.576109,
     "end_time": "2023-05-09T14:11:25.192918",
     "exception": false,
     "start_time": "2023-05-09T14:11:24.616809",
     "status": "completed"
    },
    "tags": []
   },
   "outputs": [
    {
     "name": "stdout",
     "output_type": "stream",
     "text": [
      "1/1 [==============================] - 0s 117ms/step\n"
     ]
    },
    {
     "data": {
      "text/plain": [
       "[('France', 69.8258638381958),\n",
       " ('Italy', 8.054161816835403),\n",
       " ('United Kingdom', 7.4835404753685),\n",
       " ('South Korea', 7.366032898426056),\n",
       " ('Taiwan', 2.4545611813664436)]"
      ]
     },
     "execution_count": 7,
     "metadata": {},
     "output_type": "execute_result"
    }
   ],
   "source": [
    "# predicting city image of Paris\n",
    "img = load_img('/kaggle/input/test-img-paris/test_img_paris.png', target_size=(img_target_height, img_target_width))\n",
    "x = img_to_array(img)\n",
    "x = np.expand_dims(x, axis=0)\n",
    "\n",
    "images = np.vstack([x])\n",
    "prediction = model.predict(images, batch_size=batch_size)\n",
    "\n",
    "zip_list = list(zip(dataset.class_names,prediction[0]))\n",
    "\n",
    "result = []\n",
    "\n",
    "for (country, pred) in zip_list:\n",
    "    result.append((country,float(pred)*100))\n",
    "    \n",
    "top_five = sorted(result, key=lambda a: a[1], reverse=True)[:5]\n",
    "\n",
    "top_five"
   ]
  },
  {
   "cell_type": "markdown",
   "id": "159b27c6",
   "metadata": {
    "papermill": {
     "duration": 0.004525,
     "end_time": "2023-05-09T14:11:25.202314",
     "exception": false,
     "start_time": "2023-05-09T14:11:25.197789",
     "status": "completed"
    },
    "tags": []
   },
   "source": [
    "Trains well on city data"
   ]
  },
  {
   "cell_type": "code",
   "execution_count": 8,
   "id": "e51c1267",
   "metadata": {
    "execution": {
     "iopub.execute_input": "2023-05-09T14:11:25.213836Z",
     "iopub.status.busy": "2023-05-09T14:11:25.213443Z",
     "iopub.status.idle": "2023-05-09T14:11:25.744780Z",
     "shell.execute_reply": "2023-05-09T14:11:25.743621Z"
    },
    "papermill": {
     "duration": 0.539973,
     "end_time": "2023-05-09T14:11:25.747266",
     "exception": false,
     "start_time": "2023-05-09T14:11:25.207293",
     "status": "completed"
    },
    "tags": []
   },
   "outputs": [
    {
     "name": "stdout",
     "output_type": "stream",
     "text": [
      "1/1 [==============================] - 0s 131ms/step\n"
     ]
    },
    {
     "data": {
      "text/plain": [
       "[('Brazil', 33.01493525505066),\n",
       " ('France', 30.68867027759552),\n",
       " ('United Kingdom', 24.759601056575775),\n",
       " ('Spain', 3.483342006802559),\n",
       " ('Australia', 2.7308398857712746)]"
      ]
     },
     "execution_count": 8,
     "metadata": {},
     "output_type": "execute_result"
    }
   ],
   "source": [
    "# predicting rural image of Avispa, Columbia\n",
    "img = load_img('/kaggle/input/test-img-avispa-columbia/test-img-avispa-columbia.png', target_size=(img_target_height, img_target_width))\n",
    "x = img_to_array(img)\n",
    "x = np.expand_dims(x, axis=0)\n",
    "\n",
    "images = np.vstack([x])\n",
    "prediction = model.predict(images, batch_size=batch_size)\n",
    "\n",
    "zip_list = list(zip(dataset.class_names,prediction[0]))\n",
    "\n",
    "result = []\n",
    "\n",
    "for (country, pred) in zip_list:\n",
    "    result.append((country,float(pred)*100))\n",
    "    \n",
    "top_five = sorted(result, key=lambda a: a[1], reverse=True)[:5]\n",
    "\n",
    "top_five"
   ]
  },
  {
   "cell_type": "markdown",
   "id": "ff1f6d39",
   "metadata": {
    "papermill": {
     "duration": 0.004969,
     "end_time": "2023-05-09T14:11:25.757295",
     "exception": false,
     "start_time": "2023-05-09T14:11:25.752326",
     "status": "completed"
    },
    "tags": []
   },
   "source": [
    "Concerning UK and France are in top 3."
   ]
  }
 ],
 "metadata": {
  "kernelspec": {
   "display_name": "Python 3",
   "language": "python",
   "name": "python3"
  },
  "language_info": {
   "codemirror_mode": {
    "name": "ipython",
    "version": 3
   },
   "file_extension": ".py",
   "mimetype": "text/x-python",
   "name": "python",
   "nbconvert_exporter": "python",
   "pygments_lexer": "ipython3",
   "version": "3.10.10"
  },
  "papermill": {
   "default_parameters": {},
   "duration": 54.618018,
   "end_time": "2023-05-09T14:11:28.998969",
   "environment_variables": {},
   "exception": null,
   "input_path": "__notebook__.ipynb",
   "output_path": "__notebook__.ipynb",
   "parameters": {},
   "start_time": "2023-05-09T14:10:34.380951",
   "version": "2.4.0"
  }
 },
 "nbformat": 4,
 "nbformat_minor": 5
}
