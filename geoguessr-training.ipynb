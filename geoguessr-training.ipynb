{
 "cells": [
  {
   "cell_type": "code",
   "execution_count": 1,
   "id": "3b16b72c",
   "metadata": {
    "_cell_guid": "b1076dfc-b9ad-4769-8c92-a6c4dae69d19",
    "_uuid": "8f2839f25d086af736a60e9eeb907d3b93b6e0e5",
    "execution": {
     "iopub.execute_input": "2023-05-05T14:50:29.182955Z",
     "iopub.status.busy": "2023-05-05T14:50:29.182066Z",
     "iopub.status.idle": "2023-05-05T14:50:38.077426Z",
     "shell.execute_reply": "2023-05-05T14:50:38.076442Z"
    },
    "papermill": {
     "duration": 8.903465,
     "end_time": "2023-05-05T14:50:38.080791",
     "exception": false,
     "start_time": "2023-05-05T14:50:29.177326",
     "status": "completed"
    },
    "tags": []
   },
   "outputs": [
    {
     "name": "stderr",
     "output_type": "stream",
     "text": [
      "/opt/conda/lib/python3.10/site-packages/scipy/__init__.py:146: UserWarning: A NumPy version >=1.16.5 and <1.23.0 is required for this version of SciPy (detected version 1.23.5\n",
      "  warnings.warn(f\"A NumPy version >={np_minversion} and <{np_maxversion}\"\n"
     ]
    }
   ],
   "source": [
    "import math\n",
    "import os\n",
    "import numpy as np\n",
    "import matplotlib.pyplot as plt\n",
    "from keras.callbacks import EarlyStopping, Callback\n",
    "from keras.utils import image_dataset_from_directory\n",
    "from keras.layers import Dense, Flatten, Dropout\n",
    "from keras.models import Model, load_model\n",
    "from keras.applications import DenseNet121\n",
    "from scikitplot.metrics import plot_confusion_matrix, plot_roc"
   ]
  },
  {
   "cell_type": "code",
   "execution_count": 2,
   "id": "e085858e",
   "metadata": {
    "execution": {
     "iopub.execute_input": "2023-05-05T14:50:38.088921Z",
     "iopub.status.busy": "2023-05-05T14:50:38.088226Z",
     "iopub.status.idle": "2023-05-05T14:51:06.473889Z",
     "shell.execute_reply": "2023-05-05T14:51:06.472255Z"
    },
    "papermill": {
     "duration": 28.392296,
     "end_time": "2023-05-05T14:51:06.476381",
     "exception": false,
     "start_time": "2023-05-05T14:50:38.084085",
     "status": "completed"
    },
    "tags": []
   },
   "outputs": [
    {
     "name": "stdout",
     "output_type": "stream",
     "text": [
      "Found 35977 files belonging to 55 classes.\n",
      "Using 28782 files for training.\n",
      "Found 35977 files belonging to 55 classes.\n",
      "Using 7195 files for validation.\n"
     ]
    }
   ],
   "source": [
    "data_directory = \"/kaggle/input/geoguessr-55countries/geoguessr_filtered_data\"\n",
    "\n",
    "batch_size = 32\n",
    "img_width = 1536\n",
    "img_height = 662\n",
    "epochs = 30\n",
    "\n",
    "img_target_scale = 0.2\n",
    "img_target_width = int(math.floor(img_width * img_target_scale))\n",
    "img_target_height= int(math.floor(img_height * img_target_scale))\n",
    "\n",
    "train_ds = image_dataset_from_directory(\n",
    "  data_directory,\n",
    "  label_mode='categorical',\n",
    "  validation_split=0.2,\n",
    "  subset=\"training\",\n",
    "  seed=123,\n",
    "  image_size=(img_target_height, img_target_width),\n",
    "  batch_size=batch_size)\n",
    "\n",
    "validation_ds = image_dataset_from_directory(\n",
    "  data_directory,\n",
    "  label_mode='categorical',\n",
    "  validation_split=0.2,\n",
    "  subset=\"validation\",\n",
    "  seed=123,\n",
    "  image_size=(img_target_height, img_target_width),\n",
    "  batch_size=batch_size)\n",
    "\n",
    "classes = train_ds.class_names"
   ]
  },
  {
   "cell_type": "code",
   "execution_count": 3,
   "id": "9cbab465",
   "metadata": {
    "execution": {
     "iopub.execute_input": "2023-05-05T14:51:06.483849Z",
     "iopub.status.busy": "2023-05-05T14:51:06.483447Z",
     "iopub.status.idle": "2023-05-05T14:51:11.342544Z",
     "shell.execute_reply": "2023-05-05T14:51:11.341255Z"
    },
    "papermill": {
     "duration": 4.866035,
     "end_time": "2023-05-05T14:51:11.345368",
     "exception": false,
     "start_time": "2023-05-05T14:51:06.479333",
     "status": "completed"
    },
    "tags": []
   },
   "outputs": [
    {
     "name": "stdout",
     "output_type": "stream",
     "text": [
      "Downloading data from https://storage.googleapis.com/tensorflow/keras-applications/densenet/densenet121_weights_tf_dim_ordering_tf_kernels_notop.h5\n",
      "29084464/29084464 [==============================] - 0s 0us/step\n"
     ]
    }
   ],
   "source": [
    "base_model = DenseNet121(\n",
    "    include_top=False,\n",
    "    input_shape=(img_target_height,img_target_width,3),\n",
    ")\n",
    "\n",
    "trainable_layers = 5\n",
    "for layer_index in range(len(base_model.layers) - trainable_layers):\n",
    "    base_model.layers[layer_index].trainable = False\n",
    "\n",
    "dropout_rate = 0.45\n",
    "dropout_layer = Dropout(dropout_rate)(base_model.layers[-1].output)\n",
    "flattened_base = Flatten()(dropout_layer)\n",
    "output_layer = Dense(len(train_ds.class_names), activation=\"softmax\")(flattened_base)\n",
    "model = Model(inputs=base_model.inputs, outputs=output_layer)"
   ]
  },
  {
   "cell_type": "code",
   "execution_count": 4,
   "id": "cfdf22a6",
   "metadata": {
    "execution": {
     "iopub.execute_input": "2023-05-05T14:51:11.354059Z",
     "iopub.status.busy": "2023-05-05T14:51:11.353649Z",
     "iopub.status.idle": "2023-05-05T14:51:11.359369Z",
     "shell.execute_reply": "2023-05-05T14:51:11.358207Z"
    },
    "papermill": {
     "duration": 0.012935,
     "end_time": "2023-05-05T14:51:11.361672",
     "exception": false,
     "start_time": "2023-05-05T14:51:11.348737",
     "status": "completed"
    },
    "tags": []
   },
   "outputs": [],
   "source": [
    "early_stopping = EarlyStopping(monitor='val_loss', \n",
    "                           mode='min', \n",
    "                           verbose=1, \n",
    "                           patience=3, \n",
    "                           restore_best_weights=True)"
   ]
  },
  {
   "cell_type": "code",
   "execution_count": 5,
   "id": "8d4a8199",
   "metadata": {
    "execution": {
     "iopub.execute_input": "2023-05-05T14:51:11.370144Z",
     "iopub.status.busy": "2023-05-05T14:51:11.369728Z",
     "iopub.status.idle": "2023-05-05T23:45:06.465664Z",
     "shell.execute_reply": "2023-05-05T23:45:06.464497Z"
    },
    "papermill": {
     "duration": 32035.103162,
     "end_time": "2023-05-05T23:45:06.468396",
     "exception": false,
     "start_time": "2023-05-05T14:51:11.365234",
     "status": "completed"
    },
    "tags": []
   },
   "outputs": [
    {
     "name": "stdout",
     "output_type": "stream",
     "text": [
      "Epoch 1/30\n",
      "900/900 [==============================] - 2786s 3s/step - loss: 10.0187 - accuracy: 0.1483 - top_k_categorical_accuracy: 0.4168 - val_loss: 7.8598 - val_accuracy: 0.1872 - val_top_k_categorical_accuracy: 0.4863\n",
      "Epoch 2/30\n",
      "900/900 [==============================] - 2684s 3s/step - loss: 6.2739 - accuracy: 0.2502 - top_k_categorical_accuracy: 0.5824 - val_loss: 6.3097 - val_accuracy: 0.2278 - val_top_k_categorical_accuracy: 0.5383\n",
      "Epoch 3/30\n",
      "900/900 [==============================] - 2695s 3s/step - loss: 4.4008 - accuracy: 0.3196 - top_k_categorical_accuracy: 0.6785 - val_loss: 5.5778 - val_accuracy: 0.2505 - val_top_k_categorical_accuracy: 0.5566\n",
      "Epoch 4/30\n",
      "900/900 [==============================] - 2621s 3s/step - loss: 3.2972 - accuracy: 0.3760 - top_k_categorical_accuracy: 0.7426 - val_loss: 4.8595 - val_accuracy: 0.2632 - val_top_k_categorical_accuracy: 0.5796\n",
      "Epoch 5/30\n",
      "900/900 [==============================] - 2627s 3s/step - loss: 2.5348 - accuracy: 0.4383 - top_k_categorical_accuracy: 0.7997 - val_loss: 4.3941 - val_accuracy: 0.2568 - val_top_k_categorical_accuracy: 0.5740\n",
      "Epoch 6/30\n",
      "900/900 [==============================] - 2584s 3s/step - loss: 2.0782 - accuracy: 0.4817 - top_k_categorical_accuracy: 0.8376 - val_loss: 4.2188 - val_accuracy: 0.2785 - val_top_k_categorical_accuracy: 0.5878\n",
      "Epoch 7/30\n",
      "900/900 [==============================] - 2676s 3s/step - loss: 1.7735 - accuracy: 0.5182 - top_k_categorical_accuracy: 0.8661 - val_loss: 3.9857 - val_accuracy: 0.2805 - val_top_k_categorical_accuracy: 0.5876\n",
      "Epoch 8/30\n",
      "900/900 [==============================] - 2669s 3s/step - loss: 1.5869 - accuracy: 0.5485 - top_k_categorical_accuracy: 0.8874 - val_loss: 4.0290 - val_accuracy: 0.2842 - val_top_k_categorical_accuracy: 0.5885\n",
      "Epoch 9/30\n",
      "900/900 [==============================] - 2629s 3s/step - loss: 1.4420 - accuracy: 0.5800 - top_k_categorical_accuracy: 0.9040 - val_loss: 3.9173 - val_accuracy: 0.2859 - val_top_k_categorical_accuracy: 0.6021\n",
      "Epoch 10/30\n",
      "900/900 [==============================] - 2648s 3s/step - loss: 1.3320 - accuracy: 0.6034 - top_k_categorical_accuracy: 0.9165 - val_loss: 3.9559 - val_accuracy: 0.2858 - val_top_k_categorical_accuracy: 0.5990\n",
      "Epoch 11/30\n",
      "900/900 [==============================] - 2640s 3s/step - loss: 1.2259 - accuracy: 0.6279 - top_k_categorical_accuracy: 0.9291 - val_loss: 3.9832 - val_accuracy: 0.2830 - val_top_k_categorical_accuracy: 0.5926\n",
      "Epoch 12/30\n",
      "900/900 [==============================] - ETA: 0s - loss: 1.1531 - accuracy: 0.6447 - top_k_categorical_accuracy: 0.9381Restoring model weights from the end of the best epoch: 9.\n",
      "900/900 [==============================] - 2637s 3s/step - loss: 1.1531 - accuracy: 0.6447 - top_k_categorical_accuracy: 0.9381 - val_loss: 4.0343 - val_accuracy: 0.2881 - val_top_k_categorical_accuracy: 0.6033\n",
      "Epoch 12: early stopping\n"
     ]
    }
   ],
   "source": [
    "model.compile(loss=\"categorical_crossentropy\", \n",
    "              optimizer=\"adam\",\n",
    "              metrics=[\"accuracy\", \"top_k_categorical_accuracy\"])\n",
    "\n",
    "history = model.fit(train_ds,\n",
    "              epochs=epochs,\n",
    "              callbacks=[early_stopping],\n",
    "              validation_data=validation_ds)\n",
    "\n",
    "model.save(\"model.h5\")"
   ]
  },
  {
   "cell_type": "code",
   "execution_count": 6,
   "id": "9d741dbd",
   "metadata": {
    "execution": {
     "iopub.execute_input": "2023-05-05T23:45:07.992432Z",
     "iopub.status.busy": "2023-05-05T23:45:07.992010Z",
     "iopub.status.idle": "2023-05-05T23:53:44.450474Z",
     "shell.execute_reply": "2023-05-05T23:53:44.449408Z"
    },
    "papermill": {
     "duration": 517.154179,
     "end_time": "2023-05-05T23:53:44.452577",
     "exception": false,
     "start_time": "2023-05-05T23:45:07.298398",
     "status": "completed"
    },
    "tags": []
   },
   "outputs": [
    {
     "name": "stdout",
     "output_type": "stream",
     "text": [
      "225/225 [==============================] - 516s 2s/step - loss: 3.9173 - accuracy: 0.2859 - top_k_categorical_accuracy: 0.6021\n"
     ]
    },
    {
     "data": {
      "text/plain": [
       "[3.917275905609131, 0.2858929932117462, 0.602084755897522]"
      ]
     },
     "execution_count": 6,
     "metadata": {},
     "output_type": "execute_result"
    }
   ],
   "source": [
    "validation_performance = model.evaluate(validation_ds)\n",
    "validation_performance"
   ]
  },
  {
   "cell_type": "code",
   "execution_count": 7,
   "id": "d026848a",
   "metadata": {
    "execution": {
     "iopub.execute_input": "2023-05-05T23:53:45.861839Z",
     "iopub.status.busy": "2023-05-05T23:53:45.861215Z",
     "iopub.status.idle": "2023-05-05T23:53:46.159832Z",
     "shell.execute_reply": "2023-05-05T23:53:46.159049Z"
    },
    "papermill": {
     "duration": 1.010686,
     "end_time": "2023-05-05T23:53:46.161752",
     "exception": false,
     "start_time": "2023-05-05T23:53:45.151066",
     "status": "completed"
    },
    "tags": []
   },
   "outputs": [
    {
     "data": {
      "image/png": "[encoded data removed]",
      "text/plain": [
       "<Figure size 640x480 with 1 Axes>"
      ]
     },
     "metadata": {},
     "output_type": "display_data"
    }
   ],
   "source": [
    "plt.plot(history.history['loss'], label='train')\n",
    "plt.plot(history.history['val_loss'], label='validation')\n",
    "plt.title('Model Loss')\n",
    "plt.ylabel('Loss')\n",
    "plt.xlabel('Epoch')\n",
    "plt.legend(['Train', 'Validation'], loc='upper left')\n",
    "plt.show()"
   ]
  },
  {
   "cell_type": "code",
   "execution_count": 8,
   "id": "7a8bc82f",
   "metadata": {
    "execution": {
     "iopub.execute_input": "2023-05-05T23:53:47.599066Z",
     "iopub.status.busy": "2023-05-05T23:53:47.598150Z",
     "iopub.status.idle": "2023-05-05T23:53:47.865011Z",
     "shell.execute_reply": "2023-05-05T23:53:47.864203Z"
    },
    "papermill": {
     "duration": 1.000841,
     "end_time": "2023-05-05T23:53:47.867490",
     "exception": false,
     "start_time": "2023-05-05T23:53:46.866649",
     "status": "completed"
    },
    "tags": []
   },
   "outputs": [
    {
     "data": {
      "image/png": "[encoded data removed]",
      "text/plain": [
       "<Figure size 640x480 with 1 Axes>"
      ]
     },
     "metadata": {},
     "output_type": "display_data"
    }
   ],
   "source": [
    "plt.plot(history.history['accuracy'], label='train')\n",
    "plt.plot(history.history['val_accuracy'], label='validation')\n",
    "plt.title('Model Accuracy')\n",
    "plt.ylabel('Accuracy')\n",
    "plt.xlabel('Epoch')\n",
    "plt.legend(['Train', 'Validation'], loc='upper left')\n",
    "plt.show()"
   ]
  }
 ],
 "metadata": {
  "kernelspec": {
   "display_name": "Python 3",
   "language": "python",
   "name": "python3"
  },
  "language_info": {
   "codemirror_mode": {
    "name": "ipython",
    "version": 3
   },
   "file_extension": ".py",
   "mimetype": "text/x-python",
   "name": "python",
   "nbconvert_exporter": "python",
   "pygments_lexer": "ipython3",
   "version": "3.10.10"
  },
  "papermill": {
   "default_parameters": {},
   "duration": 32613.765259,
   "end_time": "2023-05-05T23:53:52.346459",
   "environment_variables": {},
   "exception": null,
   "input_path": "__notebook__.ipynb",
   "output_path": "__notebook__.ipynb",
   "parameters": {},
   "start_time": "2023-05-05T14:50:18.581200",
   "version": "2.4.0"
  }
 },
 "nbformat": 4,
 "nbformat_minor": 5
}
